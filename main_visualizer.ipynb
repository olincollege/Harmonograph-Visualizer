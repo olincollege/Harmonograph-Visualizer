{
 "cells": [
  {
   "cell_type": "code",
   "execution_count": 1,
   "id": "27dbf312-b7b6-4392-a128-2acdf58acba6",
   "metadata": {},
   "outputs": [],
   "source": [
    "import matplotlib.pyplot as plt\n",
    "import numpy as np\n",
    "import math\n",
    "import random\n",
    "\n",
    "# Reload code from other files as they are updated.\n",
    "%load_ext autoreload\n",
    "%autoreload 2\n",
    "\n",
    "# Show plots directly in this notebook.\n",
    "%matplotlib inline"
   ]
  },
  {
   "cell_type": "code",
   "execution_count": null,
   "id": "bd128cde-5be7-4a16-acd3-c451a0a2c461",
   "metadata": {},
   "outputs": [
    {
     "name": "stdin",
     "output_type": "stream",
     "text": [
      "What note would you like to set the pendulum to: Choose(C, Cs, D, Ds, E, F, Fs, G, Gs, A, As, B) or a custom number for frequency D\n"
     ]
    },
    {
     "name": "stdout",
     "output_type": "stream",
     "text": [
      "Chosen Frequency: 293.66\n"
     ]
    },
    {
     "name": "stdin",
     "output_type": "stream",
     "text": [
      "What note would you like to set the pendulum to: Choose(C, Cs, D, Ds, E, F, Fs, G, Gs, A, As, B) or a custom number for frequency 4\n"
     ]
    },
    {
     "name": "stdout",
     "output_type": "stream",
     "text": [
      "4.0 Frequency\n"
     ]
    }
   ],
   "source": [
    "from pendulum import Pendulum\n",
    "from plotting import HarmonographView\n",
    "from controler import TextController\n",
    "\n",
    "pendulum_x1 = Pendulum()\n",
    "pendulum_x2 = Pendulum()\n",
    "pendulum_y1 = Pendulum()\n",
    "pendulum_y2 = Pendulum()\n",
    "\n",
    "view = HarmonographView(pendulum_x1, pendulum_x2, pendulum_y1, pendulum_y2)\n",
    "\n",
    "controler = TextController()\n",
    "pendulum_x1.frequency = controler.input()\n",
    "pendulum_x2.frequency = controler.input()\n",
    "pendulum_y1.frequency = controler.input()\n",
    "pendulum_y2.frequency = controler.input()\n",
    "\n",
    "view.draw(\"Visual_1\")\n",
    "view.draw(\"Visual_2\")\n",
    "view.draw(\"Visual_3\")"
   ]
  }
 ],
 "metadata": {
  "kernelspec": {
   "display_name": "Python 3 (ipykernel)",
   "language": "python",
   "name": "python3"
  },
  "language_info": {
   "codemirror_mode": {
    "name": "ipython",
    "version": 3
   },
   "file_extension": ".py",
   "mimetype": "text/x-python",
   "name": "python",
   "nbconvert_exporter": "python",
   "pygments_lexer": "ipython3",
   "version": "3.9.7"
  }
 },
 "nbformat": 4,
 "nbformat_minor": 5
}
